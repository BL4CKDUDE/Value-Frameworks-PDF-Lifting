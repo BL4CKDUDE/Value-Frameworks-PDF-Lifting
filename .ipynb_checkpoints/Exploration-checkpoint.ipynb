{
 "cells": [
  {
   "cell_type": "code",
   "execution_count": 1,
   "id": "09f1285c-8dce-4231-9bdb-8f450e2a860c",
   "metadata": {},
   "outputs": [],
   "source": [
    "import sys\n",
    "import os\n",
    "import numpy as np\n",
    "import pandas as pd\n",
    "\n",
    "repo_path =  r\"C:\\Users\\tebogo.mojela\\Documents\\GitHub\\Value-Frameworks-PDF-Lifting\"\n",
    "microservices_path = r\"C:\\Users\\tebogo.mojela\\Documents\\GitHub\\Value-Frameworks-PDF-Lifting\\Microservices\""
   ]
  },
  {
   "cell_type": "markdown",
   "id": "ca660352-61cd-4d0d-b11c-7ead1a8bfdcd",
   "metadata": {},
   "source": [
    "## Microservice Imports"
   ]
  },
  {
   "cell_type": "code",
   "execution_count": 2,
   "id": "71be220d-841e-446a-b30a-566dd713dd3b",
   "metadata": {},
   "outputs": [
    {
     "name": "stdout",
     "output_type": "stream",
     "text": [
      "This is a description for toolkit script with 28 universal helper functions for data manipulation in pandas, lists and strings.\n",
      "\n",
      "====\n",
      "is_null(item)\n",
      "append_to_df(df, row)\n",
      "merge(df1, df2, col1, col2, method={‘left’, ‘right’, ‘outer’, ‘inner’, ‘cross’})\n",
      "show_all_cols()\n",
      "show_all_rows()\n",
      "unwrap_row_items()\n",
      "timestamp()\n",
      "desc_df(df)\n",
      "data_scale(dfx)\n",
      "data_balance_binary(df, col)\n",
      "count_nans(df, col)\n",
      "count_dups(df, col)\n",
      "lists_identical(list1, list2)\n",
      "mi_classif(X,y)\n",
      "search_dfa(item, df, col)\n",
      "search_dfb(item, df, col)\n",
      "extract_overlap(df, overlap_column, overlap_values)\n",
      "cut_nulls(df, col_name)\n",
      "cut_dups(df, list_columns)\n",
      "stop()\n",
      "strip_string(item, method={spec, specspace, num, alpha})\n",
      "update_row(df, index, col, value)\n",
      "seaborn_dist(df_data, col)\n",
      "binary_search_array(item, array)\n",
      "date_extension()\n",
      "grade_model_clf(y_true, y_pred, identity)\n",
      "join_df_below(df1, df2)\n",
      "seaborn_corr_matrix(df_data, annot_size, label_size, outputname)\n",
      "====\n"
     ]
    }
   ],
   "source": [
    "sys.path.append(os.path.abspath(microservices_path))\n",
    "import tk_pandas_essentials\n",
    "tk_pandas_essentials.desc()\n",
    "tk_pandas_essentials.unwrap_row_items()"
   ]
  },
  {
   "cell_type": "markdown",
   "id": "2cfc7192-8248-413a-af54-caa54eb24fe2",
   "metadata": {},
   "source": [
    "## CSV Exploration"
   ]
  },
  {
   "cell_type": "code",
   "execution_count": 3,
   "id": "b9fd3d1d-d095-4035-bb69-e30825656759",
   "metadata": {},
   "outputs": [],
   "source": [
    "df_pdf_names = pd.read_csv(repo_path+\"/Input Data/PDFnames.csv\", )\n",
    "df_amkey_goldstandard = pd.read_csv(repo_path+\"/Input Data/AMKEY_GoldenStandard.csv\", )\n",
    "df_amkey_synonyms = pd.read_csv(repo_path+\"/Input Data/ActivityMetricsSynonyms.csv\", )\n",
    "df_train = pd.read_csv(repo_path+\"/Input Data/Train.csv\", )\n",
    "df_sample_submission = pd.read_csv(repo_path+\"/Input Data/SampleSubmission.csv\", )"
   ]
  },
  {
   "cell_type": "markdown",
   "id": "97758744-06b1-41a6-a75e-e17b8336d719",
   "metadata": {},
   "source": [
    "### PDFnames"
   ]
  },
  {
   "cell_type": "code",
   "execution_count": 4,
   "id": "220f0661-f5dd-4fca-b6f1-d3737ac9dc8c",
   "metadata": {},
   "outputs": [
    {
     "name": "stdout",
     "output_type": "stream",
     "text": [
      "Shape: (12, 2)\n",
      "Columns: Index(['ID', 'File Name'], dtype='object')\n",
      "\n",
      "\n"
     ]
    },
    {
     "data": {
      "text/html": [
       "<div>\n",
       "<style scoped>\n",
       "    .dataframe tbody tr th:only-of-type {\n",
       "        vertical-align: middle;\n",
       "    }\n",
       "\n",
       "    .dataframe tbody tr th {\n",
       "        vertical-align: top;\n",
       "    }\n",
       "\n",
       "    .dataframe thead th {\n",
       "        text-align: right;\n",
       "    }\n",
       "</style>\n",
       "<table border=\"1\" class=\"dataframe\">\n",
       "  <thead>\n",
       "    <tr style=\"text-align: right;\">\n",
       "      <th></th>\n",
       "      <th>ID</th>\n",
       "      <th>File Name</th>\n",
       "    </tr>\n",
       "  </thead>\n",
       "  <tbody>\n",
       "    <tr>\n",
       "      <th>0</th>\n",
       "      <td>Oceana1.pdf</td>\n",
       "      <td>Oceana_Group_Sustainability_Report_2022.pdf</td>\n",
       "    </tr>\n",
       "    <tr>\n",
       "      <th>1</th>\n",
       "      <td>Ssw.pdf</td>\n",
       "      <td>ssw-IR22.pdf</td>\n",
       "    </tr>\n",
       "    <tr>\n",
       "      <th>2</th>\n",
       "      <td>Sasol.pdf</td>\n",
       "      <td>SASOL Sustainability Report 2023 20-09_0.pdf</td>\n",
       "    </tr>\n",
       "    <tr>\n",
       "      <th>3</th>\n",
       "      <td>Impala.pdf</td>\n",
       "      <td>ESG-spreads.pdf</td>\n",
       "    </tr>\n",
       "    <tr>\n",
       "      <th>4</th>\n",
       "      <td>Clicks.pdf</td>\n",
       "      <td>Clicks-Sustainability-Report-2022.pdf</td>\n",
       "    </tr>\n",
       "  </tbody>\n",
       "</table>\n",
       "</div>"
      ],
      "text/plain": [
       "            ID                                     File Name\n",
       "0  Oceana1.pdf   Oceana_Group_Sustainability_Report_2022.pdf\n",
       "1      Ssw.pdf                                  ssw-IR22.pdf\n",
       "2    Sasol.pdf  SASOL Sustainability Report 2023 20-09_0.pdf\n",
       "3   Impala.pdf                               ESG-spreads.pdf\n",
       "4   Clicks.pdf         Clicks-Sustainability-Report-2022.pdf"
      ]
     },
     "metadata": {},
     "output_type": "display_data"
    }
   ],
   "source": [
    "tk_pandas_essentials.desc_df(df_pdf_names)"
   ]
  },
  {
   "cell_type": "markdown",
   "id": "31d2cef5-1e20-44ba-b4f1-6858ae505709",
   "metadata": {},
   "source": [
    "### AMKEY_GoldenStandard\n",
    "- at least one company reported\n",
    "- unique"
   ]
  },
  {
   "cell_type": "code",
   "execution_count": 5,
   "id": "e97ebfa0-a405-4c58-b3f4-3d0024aab9bc",
   "metadata": {},
   "outputs": [
    {
     "name": "stdout",
     "output_type": "stream",
     "text": [
      "Shape: (511, 2)\n",
      "Columns: Index(['AMKEY', 'ActivityMetric'], dtype='object')\n",
      "\n",
      "\n"
     ]
    },
    {
     "data": {
      "text/html": [
       "<div>\n",
       "<style scoped>\n",
       "    .dataframe tbody tr th:only-of-type {\n",
       "        vertical-align: middle;\n",
       "    }\n",
       "\n",
       "    .dataframe tbody tr th {\n",
       "        vertical-align: top;\n",
       "    }\n",
       "\n",
       "    .dataframe thead th {\n",
       "        text-align: right;\n",
       "    }\n",
       "</style>\n",
       "<table border=\"1\" class=\"dataframe\">\n",
       "  <thead>\n",
       "    <tr style=\"text-align: right;\">\n",
       "      <th></th>\n",
       "      <th>AMKEY</th>\n",
       "      <th>ActivityMetric</th>\n",
       "    </tr>\n",
       "  </thead>\n",
       "  <tbody>\n",
       "    <tr>\n",
       "      <th>0</th>\n",
       "      <td>3</td>\n",
       "      <td>Advisory fees as per income statement</td>\n",
       "    </tr>\n",
       "    <tr>\n",
       "      <th>1</th>\n",
       "      <td>6</td>\n",
       "      <td>Air emissions of the following pollutants: (1) CO</td>\n",
       "    </tr>\n",
       "    <tr>\n",
       "      <th>2</th>\n",
       "      <td>7</td>\n",
       "      <td>Air emissions of the following pollutants: (2) NOx (excluding N2O)</td>\n",
       "    </tr>\n",
       "    <tr>\n",
       "      <th>3</th>\n",
       "      <td>8</td>\n",
       "      <td>Air emissions of the following pollutants: (3) SOx</td>\n",
       "    </tr>\n",
       "    <tr>\n",
       "      <th>4</th>\n",
       "      <td>9</td>\n",
       "      <td>Air emissions of the following pollutants: (4) particulate matter (PM10)</td>\n",
       "    </tr>\n",
       "  </tbody>\n",
       "</table>\n",
       "</div>"
      ],
      "text/plain": [
       "   AMKEY  \\\n",
       "0      3   \n",
       "1      6   \n",
       "2      7   \n",
       "3      8   \n",
       "4      9   \n",
       "\n",
       "                                                             ActivityMetric  \n",
       "0                                     Advisory fees as per income statement  \n",
       "1                         Air emissions of the following pollutants: (1) CO  \n",
       "2        Air emissions of the following pollutants: (2) NOx (excluding N2O)  \n",
       "3                        Air emissions of the following pollutants: (3) SOx  \n",
       "4  Air emissions of the following pollutants: (4) particulate matter (PM10)  "
      ]
     },
     "metadata": {},
     "output_type": "display_data"
    }
   ],
   "source": [
    "tk_pandas_essentials.desc_df(df_amkey_goldstandard)"
   ]
  },
  {
   "cell_type": "code",
   "execution_count": 6,
   "id": "c7fc7fac-9045-4b2d-b26b-7291a21ff734",
   "metadata": {},
   "outputs": [
    {
     "data": {
      "text/plain": [
       "511"
      ]
     },
     "execution_count": 6,
     "metadata": {},
     "output_type": "execute_result"
    }
   ],
   "source": [
    "len(set(df_amkey_goldstandard[\"AMKEY\"]))"
   ]
  },
  {
   "cell_type": "markdown",
   "id": "71e860c8-6f81-489a-820d-f07f9881a88a",
   "metadata": {},
   "source": [
    "### ActivityMetricsSynonyms"
   ]
  },
  {
   "cell_type": "code",
   "execution_count": 7,
   "id": "95c921f0-a741-4800-bf86-6be40eb9aa37",
   "metadata": {},
   "outputs": [
    {
     "name": "stdout",
     "output_type": "stream",
     "text": [
      "Shape: (365, 4)\n",
      "Columns: Index(['AMKEY', 'Group', 'ActivityMetric', 'ClientMetric'], dtype='object')\n",
      "\n",
      "\n"
     ]
    },
    {
     "data": {
      "text/html": [
       "<div>\n",
       "<style scoped>\n",
       "    .dataframe tbody tr th:only-of-type {\n",
       "        vertical-align: middle;\n",
       "    }\n",
       "\n",
       "    .dataframe tbody tr th {\n",
       "        vertical-align: top;\n",
       "    }\n",
       "\n",
       "    .dataframe thead th {\n",
       "        text-align: right;\n",
       "    }\n",
       "</style>\n",
       "<table border=\"1\" class=\"dataframe\">\n",
       "  <thead>\n",
       "    <tr style=\"text-align: right;\">\n",
       "      <th></th>\n",
       "      <th>AMKEY</th>\n",
       "      <th>Group</th>\n",
       "      <th>ActivityMetric</th>\n",
       "      <th>ClientMetric</th>\n",
       "    </tr>\n",
       "  </thead>\n",
       "  <tbody>\n",
       "    <tr>\n",
       "      <th>0</th>\n",
       "      <td>7</td>\n",
       "      <td>Impala</td>\n",
       "      <td>Air emissions of the following pollutants: (2) NOx (excluding N2O)</td>\n",
       "      <td>Total indirect Nox</td>\n",
       "    </tr>\n",
       "    <tr>\n",
       "      <th>1</th>\n",
       "      <td>7</td>\n",
       "      <td>Sasol</td>\n",
       "      <td>Air emissions of the following pollutants: (2) NOx (excluding N2O)</td>\n",
       "      <td>Nitrogen oxides (NOx) (kilotons)</td>\n",
       "    </tr>\n",
       "    <tr>\n",
       "      <th>2</th>\n",
       "      <td>8</td>\n",
       "      <td>Sasol</td>\n",
       "      <td>Air emissions of the following pollutants: (3) SOx</td>\n",
       "      <td>Sulphur oxides (SOx ) (kilotons)</td>\n",
       "    </tr>\n",
       "    <tr>\n",
       "      <th>3</th>\n",
       "      <td>8</td>\n",
       "      <td>Ssw</td>\n",
       "      <td>Air emissions of the following pollutants: (3) SOx</td>\n",
       "      <td>SO2 emissions</td>\n",
       "    </tr>\n",
       "    <tr>\n",
       "      <th>4</th>\n",
       "      <td>8</td>\n",
       "      <td>Impala</td>\n",
       "      <td>Air emissions of the following pollutants: (3) SOx</td>\n",
       "      <td>Total direct SO2 + Total indirect SO2</td>\n",
       "    </tr>\n",
       "  </tbody>\n",
       "</table>\n",
       "</div>"
      ],
      "text/plain": [
       "   AMKEY   Group  \\\n",
       "0      7  Impala   \n",
       "1      7   Sasol   \n",
       "2      8   Sasol   \n",
       "3      8     Ssw   \n",
       "4      8  Impala   \n",
       "\n",
       "                                                       ActivityMetric  \\\n",
       "0  Air emissions of the following pollutants: (2) NOx (excluding N2O)   \n",
       "1  Air emissions of the following pollutants: (2) NOx (excluding N2O)   \n",
       "2                  Air emissions of the following pollutants: (3) SOx   \n",
       "3                  Air emissions of the following pollutants: (3) SOx   \n",
       "4                  Air emissions of the following pollutants: (3) SOx   \n",
       "\n",
       "                            ClientMetric  \n",
       "0                     Total indirect Nox  \n",
       "1       Nitrogen oxides (NOx) (kilotons)  \n",
       "2       Sulphur oxides (SOx ) (kilotons)  \n",
       "3                          SO2 emissions  \n",
       "4  Total direct SO2 + Total indirect SO2  "
      ]
     },
     "metadata": {},
     "output_type": "display_data"
    }
   ],
   "source": [
    "tk_pandas_essentials.desc_df(df_amkey_synonyms)"
   ]
  },
  {
   "cell_type": "code",
   "execution_count": 8,
   "id": "0e7c0163-e9e7-411c-90a4-5b22aca10cc0",
   "metadata": {},
   "outputs": [
    {
     "data": {
      "text/plain": [
       "8"
      ]
     },
     "execution_count": 8,
     "metadata": {},
     "output_type": "execute_result"
    }
   ],
   "source": [
    "len(set(df_amkey_synonyms[\"Group\"]))"
   ]
  },
  {
   "cell_type": "code",
   "execution_count": 9,
   "id": "f1fb31d0-a561-43c5-9511-20258b9075f8",
   "metadata": {},
   "outputs": [
    {
     "data": {
      "text/plain": [
       "{'Absa', 'Distell', 'Impala', 'Oceana1&2', 'Sasol', 'Ssw', 'Tongaat', 'Uct1&2'}"
      ]
     },
     "execution_count": 9,
     "metadata": {},
     "output_type": "execute_result"
    }
   ],
   "source": [
    "set(df_amkey_synonyms[\"Group\"])"
   ]
  },
  {
   "cell_type": "code",
   "execution_count": 10,
   "id": "9d6bce2d-00cc-4934-ace9-d910dda1fe84",
   "metadata": {},
   "outputs": [
    {
     "data": {
      "text/plain": [
       "156"
      ]
     },
     "execution_count": 10,
     "metadata": {},
     "output_type": "execute_result"
    }
   ],
   "source": [
    "len(set(df_amkey_synonyms[\"AMKEY\"]))"
   ]
  },
  {
   "cell_type": "markdown",
   "id": "6d6a4c17-46e4-4f08-8d06-eaa958551dae",
   "metadata": {},
   "source": [
    "### Train\n",
    "- no value = not reported"
   ]
  },
  {
   "cell_type": "code",
   "execution_count": 11,
   "id": "19c799fa-2f38-4dd5-80f6-74347fd788b7",
   "metadata": {},
   "outputs": [
    {
     "name": "stdout",
     "output_type": "stream",
     "text": [
      "Shape: (5110, 4)\n",
      "Columns: Index(['ID', '2021_Value', '2020_Value', '2019_Value'], dtype='object')\n",
      "\n",
      "\n"
     ]
    },
    {
     "data": {
      "text/html": [
       "<div>\n",
       "<style scoped>\n",
       "    .dataframe tbody tr th:only-of-type {\n",
       "        vertical-align: middle;\n",
       "    }\n",
       "\n",
       "    .dataframe tbody tr th {\n",
       "        vertical-align: top;\n",
       "    }\n",
       "\n",
       "    .dataframe thead th {\n",
       "        text-align: right;\n",
       "    }\n",
       "</style>\n",
       "<table border=\"1\" class=\"dataframe\">\n",
       "  <thead>\n",
       "    <tr style=\"text-align: right;\">\n",
       "      <th></th>\n",
       "      <th>ID</th>\n",
       "      <th>2021_Value</th>\n",
       "      <th>2020_Value</th>\n",
       "      <th>2019_Value</th>\n",
       "    </tr>\n",
       "  </thead>\n",
       "  <tbody>\n",
       "    <tr>\n",
       "      <th>0</th>\n",
       "      <td>3_X_Absa</td>\n",
       "      <td>NaN</td>\n",
       "      <td>NaN</td>\n",
       "      <td>NaN</td>\n",
       "    </tr>\n",
       "    <tr>\n",
       "      <th>1</th>\n",
       "      <td>6_X_Absa</td>\n",
       "      <td>NaN</td>\n",
       "      <td>NaN</td>\n",
       "      <td>NaN</td>\n",
       "    </tr>\n",
       "    <tr>\n",
       "      <th>2</th>\n",
       "      <td>7_X_Absa</td>\n",
       "      <td>NaN</td>\n",
       "      <td>NaN</td>\n",
       "      <td>NaN</td>\n",
       "    </tr>\n",
       "    <tr>\n",
       "      <th>3</th>\n",
       "      <td>8_X_Absa</td>\n",
       "      <td>NaN</td>\n",
       "      <td>NaN</td>\n",
       "      <td>NaN</td>\n",
       "    </tr>\n",
       "    <tr>\n",
       "      <th>4</th>\n",
       "      <td>9_X_Absa</td>\n",
       "      <td>NaN</td>\n",
       "      <td>NaN</td>\n",
       "      <td>NaN</td>\n",
       "    </tr>\n",
       "  </tbody>\n",
       "</table>\n",
       "</div>"
      ],
      "text/plain": [
       "         ID 2021_Value 2020_Value  2019_Value\n",
       "0  3_X_Absa        NaN        NaN         NaN\n",
       "1  6_X_Absa        NaN        NaN         NaN\n",
       "2  7_X_Absa        NaN        NaN         NaN\n",
       "3  8_X_Absa        NaN        NaN         NaN\n",
       "4  9_X_Absa        NaN        NaN         NaN"
      ]
     },
     "metadata": {},
     "output_type": "display_data"
    }
   ],
   "source": [
    "tk_pandas_essentials.desc_df(df_train)"
   ]
  },
  {
   "cell_type": "code",
   "execution_count": 12,
   "id": "2de2a313-c59e-407a-b879-9b7349ff0f86",
   "metadata": {},
   "outputs": [
    {
     "name": "stdout",
     "output_type": "stream",
     "text": [
      "Before: (5110, 4)\n",
      "After: (461, 4)\n",
      "Trashed: 4649\n"
     ]
    }
   ],
   "source": [
    "df_train_real_values = tk_pandas_essentials.cut_nulls(df_train, \"2021_Value\")"
   ]
  },
  {
   "cell_type": "code",
   "execution_count": 13,
   "id": "ae569396-c0cc-4a06-9a23-9b37bafe3fb5",
   "metadata": {},
   "outputs": [
    {
     "name": "stdout",
     "output_type": "stream",
     "text": [
      "Shape: (461, 4)\n",
      "Columns: Index(['ID', '2021_Value', '2020_Value', '2019_Value'], dtype='object')\n",
      "\n",
      "\n"
     ]
    },
    {
     "data": {
      "text/html": [
       "<div>\n",
       "<style scoped>\n",
       "    .dataframe tbody tr th:only-of-type {\n",
       "        vertical-align: middle;\n",
       "    }\n",
       "\n",
       "    .dataframe tbody tr th {\n",
       "        vertical-align: top;\n",
       "    }\n",
       "\n",
       "    .dataframe thead th {\n",
       "        text-align: right;\n",
       "    }\n",
       "</style>\n",
       "<table border=\"1\" class=\"dataframe\">\n",
       "  <thead>\n",
       "    <tr style=\"text-align: right;\">\n",
       "      <th></th>\n",
       "      <th>ID</th>\n",
       "      <th>2021_Value</th>\n",
       "      <th>2020_Value</th>\n",
       "      <th>2019_Value</th>\n",
       "    </tr>\n",
       "  </thead>\n",
       "  <tbody>\n",
       "    <tr>\n",
       "      <th>27</th>\n",
       "      <td>46_X_Absa</td>\n",
       "      <td>4400000000.0</td>\n",
       "      <td>3500000000.0</td>\n",
       "      <td>2.700000e+09</td>\n",
       "    </tr>\n",
       "    <tr>\n",
       "      <th>30</th>\n",
       "      <td>49_X_Absa</td>\n",
       "      <td>1.0</td>\n",
       "      <td>2.0</td>\n",
       "      <td>1.000000e+00</td>\n",
       "    </tr>\n",
       "    <tr>\n",
       "      <th>33</th>\n",
       "      <td>52_X_Absa</td>\n",
       "      <td>98.0</td>\n",
       "      <td>99.0</td>\n",
       "      <td>9.500000e+01</td>\n",
       "    </tr>\n",
       "    <tr>\n",
       "      <th>34</th>\n",
       "      <td>53_X_Absa</td>\n",
       "      <td>3.0</td>\n",
       "      <td>3.0</td>\n",
       "      <td>4.000000e+00</td>\n",
       "    </tr>\n",
       "    <tr>\n",
       "      <th>35</th>\n",
       "      <td>54_X_Absa</td>\n",
       "      <td>12.0</td>\n",
       "      <td>13.0</td>\n",
       "      <td>1.200000e+01</td>\n",
       "    </tr>\n",
       "  </tbody>\n",
       "</table>\n",
       "</div>"
      ],
      "text/plain": [
       "           ID    2021_Value    2020_Value    2019_Value\n",
       "27  46_X_Absa  4400000000.0  3500000000.0  2.700000e+09\n",
       "30  49_X_Absa           1.0           2.0  1.000000e+00\n",
       "33  52_X_Absa          98.0          99.0  9.500000e+01\n",
       "34  53_X_Absa           3.0           3.0  4.000000e+00\n",
       "35  54_X_Absa          12.0          13.0  1.200000e+01"
      ]
     },
     "metadata": {},
     "output_type": "display_data"
    }
   ],
   "source": [
    "tk_pandas_essentials.desc_df(df_train_real_values)"
   ]
  },
  {
   "cell_type": "markdown",
   "id": "83ce93fd-cbbd-4c19-82d4-087f61d461a4",
   "metadata": {},
   "source": [
    "### SampleSubmission"
   ]
  },
  {
   "cell_type": "code",
   "execution_count": 14,
   "id": "060b6a1c-77e9-47ad-8ac7-19834a700b10",
   "metadata": {},
   "outputs": [
    {
     "name": "stdout",
     "output_type": "stream",
     "text": [
      "Shape: (5110, 2)\n",
      "Columns: Index(['ID', '2022_Value'], dtype='object')\n",
      "\n",
      "\n"
     ]
    },
    {
     "data": {
      "text/html": [
       "<div>\n",
       "<style scoped>\n",
       "    .dataframe tbody tr th:only-of-type {\n",
       "        vertical-align: middle;\n",
       "    }\n",
       "\n",
       "    .dataframe tbody tr th {\n",
       "        vertical-align: top;\n",
       "    }\n",
       "\n",
       "    .dataframe thead th {\n",
       "        text-align: right;\n",
       "    }\n",
       "</style>\n",
       "<table border=\"1\" class=\"dataframe\">\n",
       "  <thead>\n",
       "    <tr style=\"text-align: right;\">\n",
       "      <th></th>\n",
       "      <th>ID</th>\n",
       "      <th>2022_Value</th>\n",
       "    </tr>\n",
       "  </thead>\n",
       "  <tbody>\n",
       "    <tr>\n",
       "      <th>0</th>\n",
       "      <td>100_X_Absa</td>\n",
       "      <td>0.0</td>\n",
       "    </tr>\n",
       "    <tr>\n",
       "      <th>1</th>\n",
       "      <td>100_X_Clicks</td>\n",
       "      <td>0.0</td>\n",
       "    </tr>\n",
       "    <tr>\n",
       "      <th>2</th>\n",
       "      <td>100_X_Distell</td>\n",
       "      <td>0.0</td>\n",
       "    </tr>\n",
       "    <tr>\n",
       "      <th>3</th>\n",
       "      <td>100_X_Impala</td>\n",
       "      <td>0.0</td>\n",
       "    </tr>\n",
       "    <tr>\n",
       "      <th>4</th>\n",
       "      <td>100_X_Oceana1&amp;2</td>\n",
       "      <td>0.0</td>\n",
       "    </tr>\n",
       "  </tbody>\n",
       "</table>\n",
       "</div>"
      ],
      "text/plain": [
       "                ID  2022_Value\n",
       "0       100_X_Absa         0.0\n",
       "1     100_X_Clicks         0.0\n",
       "2    100_X_Distell         0.0\n",
       "3     100_X_Impala         0.0\n",
       "4  100_X_Oceana1&2         0.0"
      ]
     },
     "metadata": {},
     "output_type": "display_data"
    }
   ],
   "source": [
    "tk_pandas_essentials.desc_df(df_sample_submission)"
   ]
  },
  {
   "cell_type": "markdown",
   "id": "c82e8c79-14b0-4cf6-b05c-7b380e6b544a",
   "metadata": {},
   "source": [
    "# Testing & Debugging"
   ]
  }
 ],
 "metadata": {
  "kernelspec": {
   "display_name": "Python 3 (ipykernel)",
   "language": "python",
   "name": "python3"
  },
  "language_info": {
   "codemirror_mode": {
    "name": "ipython",
    "version": 3
   },
   "file_extension": ".py",
   "mimetype": "text/x-python",
   "name": "python",
   "nbconvert_exporter": "python",
   "pygments_lexer": "ipython3",
   "version": "3.9.13"
  }
 },
 "nbformat": 4,
 "nbformat_minor": 5
}
